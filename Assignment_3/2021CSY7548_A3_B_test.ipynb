{
  "nbformat": 4,
  "nbformat_minor": 0,
  "metadata": {
    "colab": {
      "name": "2021CSY7548_A3_B_test.ipynb",
      "provenance": [],
      "collapsed_sections": []
    },
    "kernelspec": {
      "name": "python3",
      "display_name": "Python 3"
    },
    "language_info": {
      "name": "python"
    },
    "accelerator": "GPU",
    "widgets": {
      "application/vnd.jupyter.widget-state+json": {
        "742e90458566409b86a4c5b440fa0804": {
          "model_module": "@jupyter-widgets/controls",
          "model_name": "HBoxModel",
          "model_module_version": "1.5.0",
          "state": {
            "_view_name": "HBoxView",
            "_dom_classes": [],
            "_model_name": "HBoxModel",
            "_view_module": "@jupyter-widgets/controls",
            "_model_module_version": "1.5.0",
            "_view_count": null,
            "_view_module_version": "1.5.0",
            "box_style": "",
            "layout": "IPY_MODEL_11b63dfdb394416cbb96038c6290be41",
            "_model_module": "@jupyter-widgets/controls",
            "children": [
              "IPY_MODEL_5437dea0801c40c3ae6b5beea712553f",
              "IPY_MODEL_10847e00c56f466f8a3226f3d8b3bfc3",
              "IPY_MODEL_599f498416ea4742a5b7c6995a4750e8"
            ]
          }
        },
        "11b63dfdb394416cbb96038c6290be41": {
          "model_module": "@jupyter-widgets/base",
          "model_name": "LayoutModel",
          "model_module_version": "1.2.0",
          "state": {
            "_view_name": "LayoutView",
            "grid_template_rows": null,
            "right": null,
            "justify_content": null,
            "_view_module": "@jupyter-widgets/base",
            "overflow": null,
            "_model_module_version": "1.2.0",
            "_view_count": null,
            "flex_flow": null,
            "width": null,
            "min_width": null,
            "border": null,
            "align_items": null,
            "bottom": null,
            "_model_module": "@jupyter-widgets/base",
            "top": null,
            "grid_column": null,
            "overflow_y": null,
            "overflow_x": null,
            "grid_auto_flow": null,
            "grid_area": null,
            "grid_template_columns": null,
            "flex": null,
            "_model_name": "LayoutModel",
            "justify_items": null,
            "grid_row": null,
            "max_height": null,
            "align_content": null,
            "visibility": null,
            "align_self": null,
            "height": null,
            "min_height": null,
            "padding": null,
            "grid_auto_rows": null,
            "grid_gap": null,
            "max_width": null,
            "order": null,
            "_view_module_version": "1.2.0",
            "grid_template_areas": null,
            "object_position": null,
            "object_fit": null,
            "grid_auto_columns": null,
            "margin": null,
            "display": null,
            "left": null
          }
        },
        "5437dea0801c40c3ae6b5beea712553f": {
          "model_module": "@jupyter-widgets/controls",
          "model_name": "HTMLModel",
          "model_module_version": "1.5.0",
          "state": {
            "_view_name": "HTMLView",
            "style": "IPY_MODEL_2b895480f0c04242ade6234a5d1256a7",
            "_dom_classes": [],
            "description": "",
            "_model_name": "HTMLModel",
            "placeholder": "​",
            "_view_module": "@jupyter-widgets/controls",
            "_model_module_version": "1.5.0",
            "value": "Downloading: 100%",
            "_view_count": null,
            "_view_module_version": "1.5.0",
            "description_tooltip": null,
            "_model_module": "@jupyter-widgets/controls",
            "layout": "IPY_MODEL_db711ed18be64a439b8f0a57d530eb7a"
          }
        },
        "10847e00c56f466f8a3226f3d8b3bfc3": {
          "model_module": "@jupyter-widgets/controls",
          "model_name": "FloatProgressModel",
          "model_module_version": "1.5.0",
          "state": {
            "_view_name": "ProgressView",
            "style": "IPY_MODEL_9c72fd1d571b4c32b6e8409e1d83b893",
            "_dom_classes": [],
            "description": "",
            "_model_name": "FloatProgressModel",
            "bar_style": "success",
            "max": 760289,
            "_view_module": "@jupyter-widgets/controls",
            "_model_module_version": "1.5.0",
            "value": 760289,
            "_view_count": null,
            "_view_module_version": "1.5.0",
            "orientation": "horizontal",
            "min": 0,
            "description_tooltip": null,
            "_model_module": "@jupyter-widgets/controls",
            "layout": "IPY_MODEL_f1e35de672db4060a5186844eded026e"
          }
        },
        "599f498416ea4742a5b7c6995a4750e8": {
          "model_module": "@jupyter-widgets/controls",
          "model_name": "HTMLModel",
          "model_module_version": "1.5.0",
          "state": {
            "_view_name": "HTMLView",
            "style": "IPY_MODEL_3b73c6470b6647bc875a87371a0f512c",
            "_dom_classes": [],
            "description": "",
            "_model_name": "HTMLModel",
            "placeholder": "​",
            "_view_module": "@jupyter-widgets/controls",
            "_model_module_version": "1.5.0",
            "value": " 742k/742k [00:00&lt;00:00, 664kB/s]",
            "_view_count": null,
            "_view_module_version": "1.5.0",
            "description_tooltip": null,
            "_model_module": "@jupyter-widgets/controls",
            "layout": "IPY_MODEL_d98ed1c417fd4264bfbd92ab71030992"
          }
        },
        "2b895480f0c04242ade6234a5d1256a7": {
          "model_module": "@jupyter-widgets/controls",
          "model_name": "DescriptionStyleModel",
          "model_module_version": "1.5.0",
          "state": {
            "_view_name": "StyleView",
            "_model_name": "DescriptionStyleModel",
            "description_width": "",
            "_view_module": "@jupyter-widgets/base",
            "_model_module_version": "1.5.0",
            "_view_count": null,
            "_view_module_version": "1.2.0",
            "_model_module": "@jupyter-widgets/controls"
          }
        },
        "db711ed18be64a439b8f0a57d530eb7a": {
          "model_module": "@jupyter-widgets/base",
          "model_name": "LayoutModel",
          "model_module_version": "1.2.0",
          "state": {
            "_view_name": "LayoutView",
            "grid_template_rows": null,
            "right": null,
            "justify_content": null,
            "_view_module": "@jupyter-widgets/base",
            "overflow": null,
            "_model_module_version": "1.2.0",
            "_view_count": null,
            "flex_flow": null,
            "width": null,
            "min_width": null,
            "border": null,
            "align_items": null,
            "bottom": null,
            "_model_module": "@jupyter-widgets/base",
            "top": null,
            "grid_column": null,
            "overflow_y": null,
            "overflow_x": null,
            "grid_auto_flow": null,
            "grid_area": null,
            "grid_template_columns": null,
            "flex": null,
            "_model_name": "LayoutModel",
            "justify_items": null,
            "grid_row": null,
            "max_height": null,
            "align_content": null,
            "visibility": null,
            "align_self": null,
            "height": null,
            "min_height": null,
            "padding": null,
            "grid_auto_rows": null,
            "grid_gap": null,
            "max_width": null,
            "order": null,
            "_view_module_version": "1.2.0",
            "grid_template_areas": null,
            "object_position": null,
            "object_fit": null,
            "grid_auto_columns": null,
            "margin": null,
            "display": null,
            "left": null
          }
        },
        "9c72fd1d571b4c32b6e8409e1d83b893": {
          "model_module": "@jupyter-widgets/controls",
          "model_name": "ProgressStyleModel",
          "model_module_version": "1.5.0",
          "state": {
            "_view_name": "StyleView",
            "_model_name": "ProgressStyleModel",
            "description_width": "",
            "_view_module": "@jupyter-widgets/base",
            "_model_module_version": "1.5.0",
            "_view_count": null,
            "_view_module_version": "1.2.0",
            "bar_color": null,
            "_model_module": "@jupyter-widgets/controls"
          }
        },
        "f1e35de672db4060a5186844eded026e": {
          "model_module": "@jupyter-widgets/base",
          "model_name": "LayoutModel",
          "model_module_version": "1.2.0",
          "state": {
            "_view_name": "LayoutView",
            "grid_template_rows": null,
            "right": null,
            "justify_content": null,
            "_view_module": "@jupyter-widgets/base",
            "overflow": null,
            "_model_module_version": "1.2.0",
            "_view_count": null,
            "flex_flow": null,
            "width": null,
            "min_width": null,
            "border": null,
            "align_items": null,
            "bottom": null,
            "_model_module": "@jupyter-widgets/base",
            "top": null,
            "grid_column": null,
            "overflow_y": null,
            "overflow_x": null,
            "grid_auto_flow": null,
            "grid_area": null,
            "grid_template_columns": null,
            "flex": null,
            "_model_name": "LayoutModel",
            "justify_items": null,
            "grid_row": null,
            "max_height": null,
            "align_content": null,
            "visibility": null,
            "align_self": null,
            "height": null,
            "min_height": null,
            "padding": null,
            "grid_auto_rows": null,
            "grid_gap": null,
            "max_width": null,
            "order": null,
            "_view_module_version": "1.2.0",
            "grid_template_areas": null,
            "object_position": null,
            "object_fit": null,
            "grid_auto_columns": null,
            "margin": null,
            "display": null,
            "left": null
          }
        },
        "3b73c6470b6647bc875a87371a0f512c": {
          "model_module": "@jupyter-widgets/controls",
          "model_name": "DescriptionStyleModel",
          "model_module_version": "1.5.0",
          "state": {
            "_view_name": "StyleView",
            "_model_name": "DescriptionStyleModel",
            "description_width": "",
            "_view_module": "@jupyter-widgets/base",
            "_model_module_version": "1.5.0",
            "_view_count": null,
            "_view_module_version": "1.2.0",
            "_model_module": "@jupyter-widgets/controls"
          }
        },
        "d98ed1c417fd4264bfbd92ab71030992": {
          "model_module": "@jupyter-widgets/base",
          "model_name": "LayoutModel",
          "model_module_version": "1.2.0",
          "state": {
            "_view_name": "LayoutView",
            "grid_template_rows": null,
            "right": null,
            "justify_content": null,
            "_view_module": "@jupyter-widgets/base",
            "overflow": null,
            "_model_module_version": "1.2.0",
            "_view_count": null,
            "flex_flow": null,
            "width": null,
            "min_width": null,
            "border": null,
            "align_items": null,
            "bottom": null,
            "_model_module": "@jupyter-widgets/base",
            "top": null,
            "grid_column": null,
            "overflow_y": null,
            "overflow_x": null,
            "grid_auto_flow": null,
            "grid_area": null,
            "grid_template_columns": null,
            "flex": null,
            "_model_name": "LayoutModel",
            "justify_items": null,
            "grid_row": null,
            "max_height": null,
            "align_content": null,
            "visibility": null,
            "align_self": null,
            "height": null,
            "min_height": null,
            "padding": null,
            "grid_auto_rows": null,
            "grid_gap": null,
            "max_width": null,
            "order": null,
            "_view_module_version": "1.2.0",
            "grid_template_areas": null,
            "object_position": null,
            "object_fit": null,
            "grid_auto_columns": null,
            "margin": null,
            "display": null,
            "left": null
          }
        },
        "a579e4b823374516a3fe0e81188d9753": {
          "model_module": "@jupyter-widgets/controls",
          "model_name": "HBoxModel",
          "model_module_version": "1.5.0",
          "state": {
            "_view_name": "HBoxView",
            "_dom_classes": [],
            "_model_name": "HBoxModel",
            "_view_module": "@jupyter-widgets/controls",
            "_model_module_version": "1.5.0",
            "_view_count": null,
            "_view_module_version": "1.5.0",
            "box_style": "",
            "layout": "IPY_MODEL_733030c96f5344fd9db7ef4ef04d810f",
            "_model_module": "@jupyter-widgets/controls",
            "children": [
              "IPY_MODEL_cd7f498274fd496abdb38f4112a939d3",
              "IPY_MODEL_cd15804b27394302af03061fdec7975f",
              "IPY_MODEL_225cd952fbb746e48b8b1757f3acdc13"
            ]
          }
        },
        "733030c96f5344fd9db7ef4ef04d810f": {
          "model_module": "@jupyter-widgets/base",
          "model_name": "LayoutModel",
          "model_module_version": "1.2.0",
          "state": {
            "_view_name": "LayoutView",
            "grid_template_rows": null,
            "right": null,
            "justify_content": null,
            "_view_module": "@jupyter-widgets/base",
            "overflow": null,
            "_model_module_version": "1.2.0",
            "_view_count": null,
            "flex_flow": null,
            "width": null,
            "min_width": null,
            "border": null,
            "align_items": null,
            "bottom": null,
            "_model_module": "@jupyter-widgets/base",
            "top": null,
            "grid_column": null,
            "overflow_y": null,
            "overflow_x": null,
            "grid_auto_flow": null,
            "grid_area": null,
            "grid_template_columns": null,
            "flex": null,
            "_model_name": "LayoutModel",
            "justify_items": null,
            "grid_row": null,
            "max_height": null,
            "align_content": null,
            "visibility": null,
            "align_self": null,
            "height": null,
            "min_height": null,
            "padding": null,
            "grid_auto_rows": null,
            "grid_gap": null,
            "max_width": null,
            "order": null,
            "_view_module_version": "1.2.0",
            "grid_template_areas": null,
            "object_position": null,
            "object_fit": null,
            "grid_auto_columns": null,
            "margin": null,
            "display": null,
            "left": null
          }
        },
        "cd7f498274fd496abdb38f4112a939d3": {
          "model_module": "@jupyter-widgets/controls",
          "model_name": "HTMLModel",
          "model_module_version": "1.5.0",
          "state": {
            "_view_name": "HTMLView",
            "style": "IPY_MODEL_58b72a6b7e85412cbbbe8396459f486f",
            "_dom_classes": [],
            "description": "",
            "_model_name": "HTMLModel",
            "placeholder": "​",
            "_view_module": "@jupyter-widgets/controls",
            "_model_module_version": "1.5.0",
            "value": "Downloading: 100%",
            "_view_count": null,
            "_view_module_version": "1.5.0",
            "description_tooltip": null,
            "_model_module": "@jupyter-widgets/controls",
            "layout": "IPY_MODEL_8f9aa296ca2d4104b0701712aa5caccf"
          }
        },
        "cd15804b27394302af03061fdec7975f": {
          "model_module": "@jupyter-widgets/controls",
          "model_name": "FloatProgressModel",
          "model_module_version": "1.5.0",
          "state": {
            "_view_name": "ProgressView",
            "style": "IPY_MODEL_8e1c1b8ca4c64580a21958f1059f2def",
            "_dom_classes": [],
            "description": "",
            "_model_name": "FloatProgressModel",
            "bar_style": "success",
            "max": 1312669,
            "_view_module": "@jupyter-widgets/controls",
            "_model_module_version": "1.5.0",
            "value": 1312669,
            "_view_count": null,
            "_view_module_version": "1.5.0",
            "orientation": "horizontal",
            "min": 0,
            "description_tooltip": null,
            "_model_module": "@jupyter-widgets/controls",
            "layout": "IPY_MODEL_27556f7fb6974a2abb0e8e39ddefa480"
          }
        },
        "225cd952fbb746e48b8b1757f3acdc13": {
          "model_module": "@jupyter-widgets/controls",
          "model_name": "HTMLModel",
          "model_module_version": "1.5.0",
          "state": {
            "_view_name": "HTMLView",
            "style": "IPY_MODEL_11af24a70cdf4c1ea5237afa4fc749c2",
            "_dom_classes": [],
            "description": "",
            "_model_name": "HTMLModel",
            "placeholder": "​",
            "_view_module": "@jupyter-widgets/controls",
            "_model_module_version": "1.5.0",
            "value": " 1.25M/1.25M [00:00&lt;00:00, 2.21MB/s]",
            "_view_count": null,
            "_view_module_version": "1.5.0",
            "description_tooltip": null,
            "_model_module": "@jupyter-widgets/controls",
            "layout": "IPY_MODEL_65b0d5a98a934f65923790213403873d"
          }
        },
        "58b72a6b7e85412cbbbe8396459f486f": {
          "model_module": "@jupyter-widgets/controls",
          "model_name": "DescriptionStyleModel",
          "model_module_version": "1.5.0",
          "state": {
            "_view_name": "StyleView",
            "_model_name": "DescriptionStyleModel",
            "description_width": "",
            "_view_module": "@jupyter-widgets/base",
            "_model_module_version": "1.5.0",
            "_view_count": null,
            "_view_module_version": "1.2.0",
            "_model_module": "@jupyter-widgets/controls"
          }
        },
        "8f9aa296ca2d4104b0701712aa5caccf": {
          "model_module": "@jupyter-widgets/base",
          "model_name": "LayoutModel",
          "model_module_version": "1.2.0",
          "state": {
            "_view_name": "LayoutView",
            "grid_template_rows": null,
            "right": null,
            "justify_content": null,
            "_view_module": "@jupyter-widgets/base",
            "overflow": null,
            "_model_module_version": "1.2.0",
            "_view_count": null,
            "flex_flow": null,
            "width": null,
            "min_width": null,
            "border": null,
            "align_items": null,
            "bottom": null,
            "_model_module": "@jupyter-widgets/base",
            "top": null,
            "grid_column": null,
            "overflow_y": null,
            "overflow_x": null,
            "grid_auto_flow": null,
            "grid_area": null,
            "grid_template_columns": null,
            "flex": null,
            "_model_name": "LayoutModel",
            "justify_items": null,
            "grid_row": null,
            "max_height": null,
            "align_content": null,
            "visibility": null,
            "align_self": null,
            "height": null,
            "min_height": null,
            "padding": null,
            "grid_auto_rows": null,
            "grid_gap": null,
            "max_width": null,
            "order": null,
            "_view_module_version": "1.2.0",
            "grid_template_areas": null,
            "object_position": null,
            "object_fit": null,
            "grid_auto_columns": null,
            "margin": null,
            "display": null,
            "left": null
          }
        },
        "8e1c1b8ca4c64580a21958f1059f2def": {
          "model_module": "@jupyter-widgets/controls",
          "model_name": "ProgressStyleModel",
          "model_module_version": "1.5.0",
          "state": {
            "_view_name": "StyleView",
            "_model_name": "ProgressStyleModel",
            "description_width": "",
            "_view_module": "@jupyter-widgets/base",
            "_model_module_version": "1.5.0",
            "_view_count": null,
            "_view_module_version": "1.2.0",
            "bar_color": null,
            "_model_module": "@jupyter-widgets/controls"
          }
        },
        "27556f7fb6974a2abb0e8e39ddefa480": {
          "model_module": "@jupyter-widgets/base",
          "model_name": "LayoutModel",
          "model_module_version": "1.2.0",
          "state": {
            "_view_name": "LayoutView",
            "grid_template_rows": null,
            "right": null,
            "justify_content": null,
            "_view_module": "@jupyter-widgets/base",
            "overflow": null,
            "_model_module_version": "1.2.0",
            "_view_count": null,
            "flex_flow": null,
            "width": null,
            "min_width": null,
            "border": null,
            "align_items": null,
            "bottom": null,
            "_model_module": "@jupyter-widgets/base",
            "top": null,
            "grid_column": null,
            "overflow_y": null,
            "overflow_x": null,
            "grid_auto_flow": null,
            "grid_area": null,
            "grid_template_columns": null,
            "flex": null,
            "_model_name": "LayoutModel",
            "justify_items": null,
            "grid_row": null,
            "max_height": null,
            "align_content": null,
            "visibility": null,
            "align_self": null,
            "height": null,
            "min_height": null,
            "padding": null,
            "grid_auto_rows": null,
            "grid_gap": null,
            "max_width": null,
            "order": null,
            "_view_module_version": "1.2.0",
            "grid_template_areas": null,
            "object_position": null,
            "object_fit": null,
            "grid_auto_columns": null,
            "margin": null,
            "display": null,
            "left": null
          }
        },
        "11af24a70cdf4c1ea5237afa4fc749c2": {
          "model_module": "@jupyter-widgets/controls",
          "model_name": "DescriptionStyleModel",
          "model_module_version": "1.5.0",
          "state": {
            "_view_name": "StyleView",
            "_model_name": "DescriptionStyleModel",
            "description_width": "",
            "_view_module": "@jupyter-widgets/base",
            "_model_module_version": "1.5.0",
            "_view_count": null,
            "_view_module_version": "1.2.0",
            "_model_module": "@jupyter-widgets/controls"
          }
        },
        "65b0d5a98a934f65923790213403873d": {
          "model_module": "@jupyter-widgets/base",
          "model_name": "LayoutModel",
          "model_module_version": "1.2.0",
          "state": {
            "_view_name": "LayoutView",
            "grid_template_rows": null,
            "right": null,
            "justify_content": null,
            "_view_module": "@jupyter-widgets/base",
            "overflow": null,
            "_model_module_version": "1.2.0",
            "_view_count": null,
            "flex_flow": null,
            "width": null,
            "min_width": null,
            "border": null,
            "align_items": null,
            "bottom": null,
            "_model_module": "@jupyter-widgets/base",
            "top": null,
            "grid_column": null,
            "overflow_y": null,
            "overflow_x": null,
            "grid_auto_flow": null,
            "grid_area": null,
            "grid_template_columns": null,
            "flex": null,
            "_model_name": "LayoutModel",
            "justify_items": null,
            "grid_row": null,
            "max_height": null,
            "align_content": null,
            "visibility": null,
            "align_self": null,
            "height": null,
            "min_height": null,
            "padding": null,
            "grid_auto_rows": null,
            "grid_gap": null,
            "max_width": null,
            "order": null,
            "_view_module_version": "1.2.0",
            "grid_template_areas": null,
            "object_position": null,
            "object_fit": null,
            "grid_auto_columns": null,
            "margin": null,
            "display": null,
            "left": null
          }
        }
      }
    }
  },
  "cells": [
    {
      "cell_type": "markdown",
      "metadata": {
        "id": "JSkHozvq7gGh"
      },
      "source": [
        "Make a copy of this notebook and rename using your USERID in the following format, 2017CSZ8058\n",
        "\n",
        "Give editor access to keshavkolluru@gmail.com, vishalsaley114@gmail.com and kartikeya.badola@gmail.com\n"
      ]
    },
    {
      "cell_type": "code",
      "metadata": {
        "id": "sPmKrdbC48JU",
        "colab": {
          "base_uri": "https://localhost:8080/"
        },
        "outputId": "1801dad1-38ea-4871-f3c6-b1b3311981a4"
      },
      "source": [
        "## DONT CHANGE THIS CELL \n",
        "# this is currently the same as dev.data.txt\n",
        "!wget http://www.cse.iitd.ac.in/~mausam/courses/col772/autumn2021/A3/test.data.txt"
      ],
      "execution_count": 1,
      "outputs": [
        {
          "output_type": "stream",
          "name": "stdout",
          "text": [
            "--2021-10-25 12:27:08--  http://www.cse.iitd.ac.in/~mausam/courses/col772/autumn2021/A3/test.data.txt\n",
            "Resolving www.cse.iitd.ac.in (www.cse.iitd.ac.in)... 103.27.9.152\n",
            "Connecting to www.cse.iitd.ac.in (www.cse.iitd.ac.in)|103.27.9.152|:80... connected.\n",
            "HTTP request sent, awaiting response... 301 Moved Permanently\n",
            "Location: https://www.cse.iitd.ac.in/~mausam/courses/col772/autumn2021/A3/test.data.txt [following]\n",
            "--2021-10-25 12:27:09--  https://www.cse.iitd.ac.in/~mausam/courses/col772/autumn2021/A3/test.data.txt\n",
            "Connecting to www.cse.iitd.ac.in (www.cse.iitd.ac.in)|103.27.9.152|:443... connected.\n",
            "HTTP request sent, awaiting response... 200 OK\n",
            "Length: 63639 (62K) [text/plain]\n",
            "Saving to: ‘test.data.txt’\n",
            "\n",
            "test.data.txt       100%[===================>]  62.15K   130KB/s    in 0.5s    \n",
            "\n",
            "2021-10-25 12:27:10 (130 KB/s) - ‘test.data.txt’ saved [63639/63639]\n",
            "\n"
          ]
        }
      ]
    },
    {
      "cell_type": "code",
      "metadata": {
        "id": "xJv-12oi_zKg",
        "colab": {
          "base_uri": "https://localhost:8080/"
        },
        "outputId": "8b8e5dd2-6aec-4873-bc96-cf8a292ecc96"
      },
      "source": [
        "## Replace with the right link that contains the zip file uploaded from the training\n",
        "# !gdown https://drive.google.com/uc?id=xxxxxxxxxxx\n",
        "!gdown https://drive.google.com/uc?id=1lYDa3t45CuLHZgmubujGkqgTd38UdNAZ"
      ],
      "execution_count": 2,
      "outputs": [
        {
          "output_type": "stream",
          "name": "stdout",
          "text": [
            "Downloading...\n",
            "From: https://drive.google.com/uc?id=1lYDa3t45CuLHZgmubujGkqgTd38UdNAZ\n",
            "To: /content/2021CSY7548_B_model.zip\n",
            "100% 43.4M/43.4M [00:01<00:00, 37.2MB/s]\n"
          ]
        }
      ]
    },
    {
      "cell_type": "code",
      "metadata": {
        "colab": {
          "base_uri": "https://localhost:8080/"
        },
        "id": "37WH_waGwY6_",
        "outputId": "241d20b2-119c-457f-f80c-d50df50a91b6"
      },
      "source": [
        "!pip install sentencepiece\n",
        "!pip install transformers"
      ],
      "execution_count": 3,
      "outputs": [
        {
          "output_type": "stream",
          "name": "stdout",
          "text": [
            "Collecting sentencepiece\n",
            "  Downloading sentencepiece-0.1.96-cp37-cp37m-manylinux_2_17_x86_64.manylinux2014_x86_64.whl (1.2 MB)\n",
            "\u001b[?25l\r\u001b[K     |▎                               | 10 kB 24.5 MB/s eta 0:00:01\r\u001b[K     |▌                               | 20 kB 30.4 MB/s eta 0:00:01\r\u001b[K     |▉                               | 30 kB 22.2 MB/s eta 0:00:01\r\u001b[K     |█                               | 40 kB 18.1 MB/s eta 0:00:01\r\u001b[K     |█▍                              | 51 kB 15.2 MB/s eta 0:00:01\r\u001b[K     |█▋                              | 61 kB 12.6 MB/s eta 0:00:01\r\u001b[K     |██                              | 71 kB 12.1 MB/s eta 0:00:01\r\u001b[K     |██▏                             | 81 kB 13.3 MB/s eta 0:00:01\r\u001b[K     |██▍                             | 92 kB 13.9 MB/s eta 0:00:01\r\u001b[K     |██▊                             | 102 kB 13.0 MB/s eta 0:00:01\r\u001b[K     |███                             | 112 kB 13.0 MB/s eta 0:00:01\r\u001b[K     |███▎                            | 122 kB 13.0 MB/s eta 0:00:01\r\u001b[K     |███▌                            | 133 kB 13.0 MB/s eta 0:00:01\r\u001b[K     |███▉                            | 143 kB 13.0 MB/s eta 0:00:01\r\u001b[K     |████                            | 153 kB 13.0 MB/s eta 0:00:01\r\u001b[K     |████▎                           | 163 kB 13.0 MB/s eta 0:00:01\r\u001b[K     |████▋                           | 174 kB 13.0 MB/s eta 0:00:01\r\u001b[K     |████▉                           | 184 kB 13.0 MB/s eta 0:00:01\r\u001b[K     |█████▏                          | 194 kB 13.0 MB/s eta 0:00:01\r\u001b[K     |█████▍                          | 204 kB 13.0 MB/s eta 0:00:01\r\u001b[K     |█████▊                          | 215 kB 13.0 MB/s eta 0:00:01\r\u001b[K     |██████                          | 225 kB 13.0 MB/s eta 0:00:01\r\u001b[K     |██████▏                         | 235 kB 13.0 MB/s eta 0:00:01\r\u001b[K     |██████▌                         | 245 kB 13.0 MB/s eta 0:00:01\r\u001b[K     |██████▊                         | 256 kB 13.0 MB/s eta 0:00:01\r\u001b[K     |███████                         | 266 kB 13.0 MB/s eta 0:00:01\r\u001b[K     |███████▎                        | 276 kB 13.0 MB/s eta 0:00:01\r\u001b[K     |███████▋                        | 286 kB 13.0 MB/s eta 0:00:01\r\u001b[K     |███████▉                        | 296 kB 13.0 MB/s eta 0:00:01\r\u001b[K     |████████                        | 307 kB 13.0 MB/s eta 0:00:01\r\u001b[K     |████████▍                       | 317 kB 13.0 MB/s eta 0:00:01\r\u001b[K     |████████▋                       | 327 kB 13.0 MB/s eta 0:00:01\r\u001b[K     |█████████                       | 337 kB 13.0 MB/s eta 0:00:01\r\u001b[K     |█████████▏                      | 348 kB 13.0 MB/s eta 0:00:01\r\u001b[K     |█████████▌                      | 358 kB 13.0 MB/s eta 0:00:01\r\u001b[K     |█████████▊                      | 368 kB 13.0 MB/s eta 0:00:01\r\u001b[K     |██████████                      | 378 kB 13.0 MB/s eta 0:00:01\r\u001b[K     |██████████▎                     | 389 kB 13.0 MB/s eta 0:00:01\r\u001b[K     |██████████▌                     | 399 kB 13.0 MB/s eta 0:00:01\r\u001b[K     |██████████▉                     | 409 kB 13.0 MB/s eta 0:00:01\r\u001b[K     |███████████                     | 419 kB 13.0 MB/s eta 0:00:01\r\u001b[K     |███████████▍                    | 430 kB 13.0 MB/s eta 0:00:01\r\u001b[K     |███████████▋                    | 440 kB 13.0 MB/s eta 0:00:01\r\u001b[K     |███████████▉                    | 450 kB 13.0 MB/s eta 0:00:01\r\u001b[K     |████████████▏                   | 460 kB 13.0 MB/s eta 0:00:01\r\u001b[K     |████████████▍                   | 471 kB 13.0 MB/s eta 0:00:01\r\u001b[K     |████████████▊                   | 481 kB 13.0 MB/s eta 0:00:01\r\u001b[K     |█████████████                   | 491 kB 13.0 MB/s eta 0:00:01\r\u001b[K     |█████████████▎                  | 501 kB 13.0 MB/s eta 0:00:01\r\u001b[K     |█████████████▌                  | 512 kB 13.0 MB/s eta 0:00:01\r\u001b[K     |█████████████▊                  | 522 kB 13.0 MB/s eta 0:00:01\r\u001b[K     |██████████████                  | 532 kB 13.0 MB/s eta 0:00:01\r\u001b[K     |██████████████▎                 | 542 kB 13.0 MB/s eta 0:00:01\r\u001b[K     |██████████████▋                 | 552 kB 13.0 MB/s eta 0:00:01\r\u001b[K     |██████████████▉                 | 563 kB 13.0 MB/s eta 0:00:01\r\u001b[K     |███████████████▏                | 573 kB 13.0 MB/s eta 0:00:01\r\u001b[K     |███████████████▍                | 583 kB 13.0 MB/s eta 0:00:01\r\u001b[K     |███████████████▋                | 593 kB 13.0 MB/s eta 0:00:01\r\u001b[K     |████████████████                | 604 kB 13.0 MB/s eta 0:00:01\r\u001b[K     |████████████████▏               | 614 kB 13.0 MB/s eta 0:00:01\r\u001b[K     |████████████████▌               | 624 kB 13.0 MB/s eta 0:00:01\r\u001b[K     |████████████████▊               | 634 kB 13.0 MB/s eta 0:00:01\r\u001b[K     |█████████████████               | 645 kB 13.0 MB/s eta 0:00:01\r\u001b[K     |█████████████████▎              | 655 kB 13.0 MB/s eta 0:00:01\r\u001b[K     |█████████████████▌              | 665 kB 13.0 MB/s eta 0:00:01\r\u001b[K     |█████████████████▉              | 675 kB 13.0 MB/s eta 0:00:01\r\u001b[K     |██████████████████              | 686 kB 13.0 MB/s eta 0:00:01\r\u001b[K     |██████████████████▍             | 696 kB 13.0 MB/s eta 0:00:01\r\u001b[K     |██████████████████▋             | 706 kB 13.0 MB/s eta 0:00:01\r\u001b[K     |███████████████████             | 716 kB 13.0 MB/s eta 0:00:01\r\u001b[K     |███████████████████▏            | 727 kB 13.0 MB/s eta 0:00:01\r\u001b[K     |███████████████████▍            | 737 kB 13.0 MB/s eta 0:00:01\r\u001b[K     |███████████████████▊            | 747 kB 13.0 MB/s eta 0:00:01\r\u001b[K     |████████████████████            | 757 kB 13.0 MB/s eta 0:00:01\r\u001b[K     |████████████████████▎           | 768 kB 13.0 MB/s eta 0:00:01\r\u001b[K     |████████████████████▌           | 778 kB 13.0 MB/s eta 0:00:01\r\u001b[K     |████████████████████▉           | 788 kB 13.0 MB/s eta 0:00:01\r\u001b[K     |█████████████████████           | 798 kB 13.0 MB/s eta 0:00:01\r\u001b[K     |█████████████████████▎          | 808 kB 13.0 MB/s eta 0:00:01\r\u001b[K     |█████████████████████▋          | 819 kB 13.0 MB/s eta 0:00:01\r\u001b[K     |█████████████████████▉          | 829 kB 13.0 MB/s eta 0:00:01\r\u001b[K     |██████████████████████▏         | 839 kB 13.0 MB/s eta 0:00:01\r\u001b[K     |██████████████████████▍         | 849 kB 13.0 MB/s eta 0:00:01\r\u001b[K     |██████████████████████▊         | 860 kB 13.0 MB/s eta 0:00:01\r\u001b[K     |███████████████████████         | 870 kB 13.0 MB/s eta 0:00:01\r\u001b[K     |███████████████████████▏        | 880 kB 13.0 MB/s eta 0:00:01\r\u001b[K     |███████████████████████▌        | 890 kB 13.0 MB/s eta 0:00:01\r\u001b[K     |███████████████████████▊        | 901 kB 13.0 MB/s eta 0:00:01\r\u001b[K     |████████████████████████        | 911 kB 13.0 MB/s eta 0:00:01\r\u001b[K     |████████████████████████▎       | 921 kB 13.0 MB/s eta 0:00:01\r\u001b[K     |████████████████████████▋       | 931 kB 13.0 MB/s eta 0:00:01\r\u001b[K     |████████████████████████▉       | 942 kB 13.0 MB/s eta 0:00:01\r\u001b[K     |█████████████████████████       | 952 kB 13.0 MB/s eta 0:00:01\r\u001b[K     |█████████████████████████▍      | 962 kB 13.0 MB/s eta 0:00:01\r\u001b[K     |█████████████████████████▋      | 972 kB 13.0 MB/s eta 0:00:01\r\u001b[K     |██████████████████████████      | 983 kB 13.0 MB/s eta 0:00:01\r\u001b[K     |██████████████████████████▏     | 993 kB 13.0 MB/s eta 0:00:01\r\u001b[K     |██████████████████████████▌     | 1.0 MB 13.0 MB/s eta 0:00:01\r\u001b[K     |██████████████████████████▊     | 1.0 MB 13.0 MB/s eta 0:00:01\r\u001b[K     |███████████████████████████     | 1.0 MB 13.0 MB/s eta 0:00:01\r\u001b[K     |███████████████████████████▎    | 1.0 MB 13.0 MB/s eta 0:00:01\r\u001b[K     |███████████████████████████▌    | 1.0 MB 13.0 MB/s eta 0:00:01\r\u001b[K     |███████████████████████████▉    | 1.1 MB 13.0 MB/s eta 0:00:01\r\u001b[K     |████████████████████████████    | 1.1 MB 13.0 MB/s eta 0:00:01\r\u001b[K     |████████████████████████████▍   | 1.1 MB 13.0 MB/s eta 0:00:01\r\u001b[K     |████████████████████████████▋   | 1.1 MB 13.0 MB/s eta 0:00:01\r\u001b[K     |████████████████████████████▉   | 1.1 MB 13.0 MB/s eta 0:00:01\r\u001b[K     |█████████████████████████████▏  | 1.1 MB 13.0 MB/s eta 0:00:01\r\u001b[K     |█████████████████████████████▍  | 1.1 MB 13.0 MB/s eta 0:00:01\r\u001b[K     |█████████████████████████████▊  | 1.1 MB 13.0 MB/s eta 0:00:01\r\u001b[K     |██████████████████████████████  | 1.1 MB 13.0 MB/s eta 0:00:01\r\u001b[K     |██████████████████████████████▎ | 1.1 MB 13.0 MB/s eta 0:00:01\r\u001b[K     |██████████████████████████████▌ | 1.2 MB 13.0 MB/s eta 0:00:01\r\u001b[K     |██████████████████████████████▊ | 1.2 MB 13.0 MB/s eta 0:00:01\r\u001b[K     |███████████████████████████████ | 1.2 MB 13.0 MB/s eta 0:00:01\r\u001b[K     |███████████████████████████████▎| 1.2 MB 13.0 MB/s eta 0:00:01\r\u001b[K     |███████████████████████████████▋| 1.2 MB 13.0 MB/s eta 0:00:01\r\u001b[K     |███████████████████████████████▉| 1.2 MB 13.0 MB/s eta 0:00:01\r\u001b[K     |████████████████████████████████| 1.2 MB 13.0 MB/s \n",
            "\u001b[?25hInstalling collected packages: sentencepiece\n",
            "Successfully installed sentencepiece-0.1.96\n",
            "Collecting transformers\n",
            "  Downloading transformers-4.11.3-py3-none-any.whl (2.9 MB)\n",
            "\u001b[K     |████████████████████████████████| 2.9 MB 12.8 MB/s \n",
            "\u001b[?25hRequirement already satisfied: regex!=2019.12.17 in /usr/local/lib/python3.7/dist-packages (from transformers) (2019.12.20)\n",
            "Collecting pyyaml>=5.1\n",
            "  Downloading PyYAML-6.0-cp37-cp37m-manylinux_2_5_x86_64.manylinux1_x86_64.manylinux_2_12_x86_64.manylinux2010_x86_64.whl (596 kB)\n",
            "\u001b[K     |████████████████████████████████| 596 kB 41.9 MB/s \n",
            "\u001b[?25hRequirement already satisfied: importlib-metadata in /usr/local/lib/python3.7/dist-packages (from transformers) (4.8.1)\n",
            "Collecting huggingface-hub>=0.0.17\n",
            "  Downloading huggingface_hub-0.0.19-py3-none-any.whl (56 kB)\n",
            "\u001b[K     |████████████████████████████████| 56 kB 4.7 MB/s \n",
            "\u001b[?25hRequirement already satisfied: tqdm>=4.27 in /usr/local/lib/python3.7/dist-packages (from transformers) (4.62.3)\n",
            "Requirement already satisfied: requests in /usr/local/lib/python3.7/dist-packages (from transformers) (2.23.0)\n",
            "Requirement already satisfied: filelock in /usr/local/lib/python3.7/dist-packages (from transformers) (3.3.0)\n",
            "Collecting tokenizers<0.11,>=0.10.1\n",
            "  Downloading tokenizers-0.10.3-cp37-cp37m-manylinux_2_5_x86_64.manylinux1_x86_64.manylinux_2_12_x86_64.manylinux2010_x86_64.whl (3.3 MB)\n",
            "\u001b[K     |████████████████████████████████| 3.3 MB 42.1 MB/s \n",
            "\u001b[?25hCollecting sacremoses\n",
            "  Downloading sacremoses-0.0.46-py3-none-any.whl (895 kB)\n",
            "\u001b[K     |████████████████████████████████| 895 kB 45.5 MB/s \n",
            "\u001b[?25hRequirement already satisfied: numpy>=1.17 in /usr/local/lib/python3.7/dist-packages (from transformers) (1.19.5)\n",
            "Requirement already satisfied: packaging>=20.0 in /usr/local/lib/python3.7/dist-packages (from transformers) (21.0)\n",
            "Requirement already satisfied: typing-extensions in /usr/local/lib/python3.7/dist-packages (from huggingface-hub>=0.0.17->transformers) (3.7.4.3)\n",
            "Requirement already satisfied: pyparsing>=2.0.2 in /usr/local/lib/python3.7/dist-packages (from packaging>=20.0->transformers) (2.4.7)\n",
            "Requirement already satisfied: zipp>=0.5 in /usr/local/lib/python3.7/dist-packages (from importlib-metadata->transformers) (3.6.0)\n",
            "Requirement already satisfied: chardet<4,>=3.0.2 in /usr/local/lib/python3.7/dist-packages (from requests->transformers) (3.0.4)\n",
            "Requirement already satisfied: urllib3!=1.25.0,!=1.25.1,<1.26,>=1.21.1 in /usr/local/lib/python3.7/dist-packages (from requests->transformers) (1.24.3)\n",
            "Requirement already satisfied: idna<3,>=2.5 in /usr/local/lib/python3.7/dist-packages (from requests->transformers) (2.10)\n",
            "Requirement already satisfied: certifi>=2017.4.17 in /usr/local/lib/python3.7/dist-packages (from requests->transformers) (2021.5.30)\n",
            "Requirement already satisfied: click in /usr/local/lib/python3.7/dist-packages (from sacremoses->transformers) (7.1.2)\n",
            "Requirement already satisfied: joblib in /usr/local/lib/python3.7/dist-packages (from sacremoses->transformers) (1.0.1)\n",
            "Requirement already satisfied: six in /usr/local/lib/python3.7/dist-packages (from sacremoses->transformers) (1.15.0)\n",
            "Installing collected packages: pyyaml, tokenizers, sacremoses, huggingface-hub, transformers\n",
            "  Attempting uninstall: pyyaml\n",
            "    Found existing installation: PyYAML 3.13\n",
            "    Uninstalling PyYAML-3.13:\n",
            "      Successfully uninstalled PyYAML-3.13\n",
            "Successfully installed huggingface-hub-0.0.19 pyyaml-6.0 sacremoses-0.0.46 tokenizers-0.10.3 transformers-4.11.3\n"
          ]
        }
      ]
    },
    {
      "cell_type": "code",
      "metadata": {
        "id": "9Sh-Mw6cAIcH"
      },
      "source": [
        "## YOUR testing code\n",
        "from transformers import AlbertConfig, AlbertModel, AlbertTokenizer\n",
        "from torch.utils.data import DataLoader, RandomSampler, SequentialSampler\n",
        "from transformers import AlbertForSequenceClassification, AdamW\n",
        "import pandas as pd\n",
        "import numpy as np\n",
        "import pickle\n",
        "import torch\n",
        "from torch.utils.data import TensorDataset, random_split"
      ],
      "execution_count": 7,
      "outputs": []
    },
    {
      "cell_type": "code",
      "metadata": {
        "colab": {
          "base_uri": "https://localhost:8080/",
          "height": 35
        },
        "id": "TJxTvNak2BUl",
        "outputId": "dc52d9bb-8efc-4c5b-be3e-2cc268602dce"
      },
      "source": [
        "device = \"cpu\"\n",
        "\n",
        "if torch.cuda.is_available():\n",
        "    device = \"cuda\"\n",
        "\n",
        "device"
      ],
      "execution_count": 8,
      "outputs": [
        {
          "output_type": "execute_result",
          "data": {
            "application/vnd.google.colaboratory.intrinsic+json": {
              "type": "string"
            },
            "text/plain": [
              "'cuda'"
            ]
          },
          "metadata": {},
          "execution_count": 8
        }
      ]
    },
    {
      "cell_type": "code",
      "metadata": {
        "colab": {
          "base_uri": "https://localhost:8080/"
        },
        "id": "baIVLT1WGl7O",
        "outputId": "70fc8e2f-5bab-4988-ee79-ddf8079be96d"
      },
      "source": [
        "!unzip /content/2021CSY7548_B_model.zip"
      ],
      "execution_count": 9,
      "outputs": [
        {
          "output_type": "stream",
          "name": "stdout",
          "text": [
            "Archive:  /content/2021CSY7548_B_model.zip\n",
            "   creating: content/model/\n",
            "  inflating: content/model/weight_params.pt  \n"
          ]
        }
      ]
    },
    {
      "cell_type": "code",
      "metadata": {
        "id": "3dbIyRcmGmWD"
      },
      "source": [
        "with open(\"/content/test.data.txt\",\"r\") as f:\n",
        "  test_data = f.read()\n",
        "\n",
        "c=0\n",
        "dataset = []\n",
        "temp = {\"sent1\":\"\",\"sent2\":\"\",\"word\":\"\",\"pos1\":0,\"pos2\":0}\n",
        "for data in test_data.split(\"\\n\"):\n",
        "  if(data != ''):\n",
        "      temp = {\"sent1\":\"\",\"sent2\":\"\",\"word\":\"\",\"pos1\":0,\"pos2\":0,\"label\":0}\n",
        "      temp[\"text\"] = data.split(\"\\t\")[3] + \" [SEP] \" + data.split(\"\\t\")[4]\n",
        "      temp[\"sent1\"] = data.split(\"\\t\")[3]\n",
        "      temp[\"sent2\"] = data.split(\"\\t\")[4]\n",
        "      temp[\"pos1\"] = int(data.split(\"\\t\")[2].split(\"-\")[0])\n",
        "      temp[\"pos2\"] = int(data.split(\"\\t\")[2].split(\"-\")[1])\n",
        "      temp[\"word\"] = data.split(\"\\t\")[0]\n",
        "      temp[\"pos_tag\"] = data.split(\"\\t\")[1]\n",
        "      dataset.append(temp)\n",
        "      c += 1\n",
        "\n",
        "pd.DataFrame(dataset).to_csv(\"/content/test_data.tsv\",sep=\"\\t\",index=False)"
      ],
      "execution_count": 10,
      "outputs": []
    },
    {
      "cell_type": "code",
      "metadata": {
        "id": "2e01ckdtHf5c",
        "colab": {
          "base_uri": "https://localhost:8080/"
        },
        "outputId": "0d7fe8d4-a4d0-4f2a-ef86-d8300eff2b88"
      },
      "source": [
        "model_name = \"albert-base-v2\"\n",
        "model = AlbertForSequenceClassification.from_pretrained(model_name, num_labels = 2)\n",
        "\n",
        "path='content/model/weight_params.pt'\n",
        "model.load_state_dict(torch.load(path,map_location=torch.device(device))[\"model_dict\"]);\n",
        "model.eval();"
      ],
      "execution_count": 14,
      "outputs": [
        {
          "output_type": "stream",
          "name": "stderr",
          "text": [
            "Some weights of the model checkpoint at albert-base-v2 were not used when initializing AlbertForSequenceClassification: ['predictions.decoder.weight', 'predictions.dense.bias', 'predictions.dense.weight', 'predictions.bias', 'predictions.LayerNorm.weight', 'predictions.decoder.bias', 'predictions.LayerNorm.bias']\n",
            "- This IS expected if you are initializing AlbertForSequenceClassification from the checkpoint of a model trained on another task or with another architecture (e.g. initializing a BertForSequenceClassification model from a BertForPreTraining model).\n",
            "- This IS NOT expected if you are initializing AlbertForSequenceClassification from the checkpoint of a model that you expect to be exactly identical (initializing a BertForSequenceClassification model from a BertForSequenceClassification model).\n",
            "Some weights of AlbertForSequenceClassification were not initialized from the model checkpoint at albert-base-v2 and are newly initialized: ['classifier.bias', 'classifier.weight']\n",
            "You should probably TRAIN this model on a down-stream task to be able to use it for predictions and inference.\n"
          ]
        }
      ]
    },
    {
      "cell_type": "code",
      "metadata": {
        "colab": {
          "base_uri": "https://localhost:8080/",
          "height": 81,
          "referenced_widgets": [
            "742e90458566409b86a4c5b440fa0804",
            "11b63dfdb394416cbb96038c6290be41",
            "5437dea0801c40c3ae6b5beea712553f",
            "10847e00c56f466f8a3226f3d8b3bfc3",
            "599f498416ea4742a5b7c6995a4750e8",
            "2b895480f0c04242ade6234a5d1256a7",
            "db711ed18be64a439b8f0a57d530eb7a",
            "9c72fd1d571b4c32b6e8409e1d83b893",
            "f1e35de672db4060a5186844eded026e",
            "3b73c6470b6647bc875a87371a0f512c",
            "d98ed1c417fd4264bfbd92ab71030992",
            "a579e4b823374516a3fe0e81188d9753",
            "733030c96f5344fd9db7ef4ef04d810f",
            "cd7f498274fd496abdb38f4112a939d3",
            "cd15804b27394302af03061fdec7975f",
            "225cd952fbb746e48b8b1757f3acdc13",
            "58b72a6b7e85412cbbbe8396459f486f",
            "8f9aa296ca2d4104b0701712aa5caccf",
            "8e1c1b8ca4c64580a21958f1059f2def",
            "27556f7fb6974a2abb0e8e39ddefa480",
            "11af24a70cdf4c1ea5237afa4fc749c2",
            "65b0d5a98a934f65923790213403873d"
          ]
        },
        "id": "eBjtYIVE1E2I",
        "outputId": "3a71e86d-a8a6-4d3c-f84a-544af0617f20"
      },
      "source": [
        "tokenizer = AlbertTokenizer.from_pretrained('albert-base-v2')"
      ],
      "execution_count": 15,
      "outputs": [
        {
          "output_type": "display_data",
          "data": {
            "application/vnd.jupyter.widget-view+json": {
              "model_id": "742e90458566409b86a4c5b440fa0804",
              "version_minor": 0,
              "version_major": 2
            },
            "text/plain": [
              "Downloading:   0%|          | 0.00/742k [00:00<?, ?B/s]"
            ]
          },
          "metadata": {}
        },
        {
          "output_type": "display_data",
          "data": {
            "application/vnd.jupyter.widget-view+json": {
              "model_id": "a579e4b823374516a3fe0e81188d9753",
              "version_minor": 0,
              "version_major": 2
            },
            "text/plain": [
              "Downloading:   0%|          | 0.00/1.25M [00:00<?, ?B/s]"
            ]
          },
          "metadata": {}
        }
      ]
    },
    {
      "cell_type": "code",
      "metadata": {
        "colab": {
          "base_uri": "https://localhost:8080/"
        },
        "id": "pvAcuoAD0ziB",
        "outputId": "16b9bf1c-2e2f-4373-8600-7cb095468859"
      },
      "source": [
        "def prepare_input_data(all_data):\n",
        "    \n",
        "    tokenized_text = []\n",
        "    attention_masks = []\n",
        "    labels = []\n",
        "\n",
        "    for sentence in all_data[\"text\"].tolist():\n",
        "        encoded_dict = tokenizer.encode_plus(sentence, add_special_tokens = True, max_length = 64, pad_to_max_length = True,\\\n",
        "                                             return_attention_mask = True, return_tensors = 'pt')\n",
        "\n",
        "        tokenized_text.append(encoded_dict['input_ids'])    \n",
        "        attention_masks.append(encoded_dict['attention_mask'])\n",
        "\n",
        "    tokenized_text = torch.cat(tokenized_text, dim=0)\n",
        "    attention_masks = torch.cat(attention_masks, dim=0)\n",
        "    \n",
        "    return tokenized_text, attention_masks\n",
        "\n",
        "test_data = pd.read_csv(\"/content/test_data.tsv\",sep=\"\\t\")\n",
        "test_tokenized_text, test_attention_masks = prepare_input_data(test_data)"
      ],
      "execution_count": 16,
      "outputs": [
        {
          "output_type": "stream",
          "name": "stderr",
          "text": [
            "Truncation was not explicitly activated but `max_length` is provided a specific value, please use `truncation=True` to explicitly truncate examples to max length. Defaulting to 'longest_first' truncation strategy. If you encode pairs of sequences (GLUE-style) with the tokenizer you can select this strategy more precisely by providing a specific strategy to `truncation`.\n",
            "/usr/local/lib/python3.7/dist-packages/transformers/tokenization_utils_base.py:2217: FutureWarning: The `pad_to_max_length` argument is deprecated and will be removed in a future version, use `padding=True` or `padding='longest'` to pad to the longest sequence in the batch, or use `padding='max_length'` to pad to a max length. In this case, you can give a specific length with `max_length` (e.g. `max_length=45`) or leave max_length to None to pad to the maximal input size of the model (e.g. 512 for Bert).\n",
            "  FutureWarning,\n"
          ]
        }
      ]
    },
    {
      "cell_type": "code",
      "metadata": {
        "id": "CVLIs1cL1OvD"
      },
      "source": [
        "batch_size = 32\n",
        "test_dataset = TensorDataset(test_tokenized_text, test_attention_masks)\n",
        "test_dataloader = DataLoader(test_dataset, sampler = SequentialSampler(test_dataset), batch_size = batch_size )"
      ],
      "execution_count": 17,
      "outputs": []
    },
    {
      "cell_type": "code",
      "metadata": {
        "id": "aKVKF03hyuBd"
      },
      "source": [
        "model.eval()\n",
        "\n",
        "predictions = []\n",
        "\n",
        "for batch in test_dataloader:\n",
        "\n",
        "  tokenized_text_data, att_mask = batch\n",
        "  tokenized_text_data.to(device)\n",
        "  att_mask.to(device)\n",
        "  \n",
        "  with torch.no_grad():\n",
        "      outputs = model(tokenized_text_data, attention_mask=att_mask)\n",
        "\n",
        "  logits = outputs[0]\n",
        "  logits = logits.detach().cpu().numpy()  \n",
        "  pred_flat = np.argmax(logits, axis=1).flatten()\n",
        "  predictions.extend(pred_flat)\n"
      ],
      "execution_count": 18,
      "outputs": []
    },
    {
      "cell_type": "code",
      "metadata": {
        "id": "HYNgMXN9JW5L"
      },
      "source": [
        "fout = open(\"output.txt\", \"w\")\n",
        "for label in predictions:\n",
        "  if(label == 1):\n",
        "    fout.write(\"T\\n\")\n",
        "  else:\n",
        "    fout.write(\"F\\n\")\n",
        "fout.close()"
      ],
      "execution_count": 19,
      "outputs": []
    },
    {
      "cell_type": "code",
      "metadata": {
        "id": "0-IlAUkv7s1C",
        "colab": {
          "base_uri": "https://localhost:8080/"
        },
        "outputId": "87817f0d-448d-45fe-f82f-4ca6246ab154"
      },
      "source": [
        "## DONT CHANGE THIS CELL\n",
        "# Your testing code must produce a file output.txt with predictions as T and F in each line\n",
        "\n",
        "## Final Evaluation \n",
        "# this is currently the same as dev.gold.txt\n",
        "!wget http://www.cse.iitd.ac.in/~mausam/courses/col772/autumn2021/A3/test.gold.txt\n",
        "correct, total = 0., 0.\n",
        "for prediction, gold in zip(open('output.txt'), open('test.gold.txt')):\n",
        "  prediction, gold = prediction.strip(), gold.strip()\n",
        "  total += 1\n",
        "  if prediction == gold:\n",
        "    correct += 1\n",
        "\n",
        "## Report this as the final validation performance \n",
        "print('Performance = ', (correct/total))"
      ],
      "execution_count": 20,
      "outputs": [
        {
          "output_type": "stream",
          "name": "stdout",
          "text": [
            "--2021-10-25 12:42:58--  http://www.cse.iitd.ac.in/~mausam/courses/col772/autumn2021/A3/test.gold.txt\n",
            "Resolving www.cse.iitd.ac.in (www.cse.iitd.ac.in)... 103.27.9.152\n",
            "Connecting to www.cse.iitd.ac.in (www.cse.iitd.ac.in)|103.27.9.152|:80... connected.\n",
            "HTTP request sent, awaiting response... 301 Moved Permanently\n",
            "Location: https://www.cse.iitd.ac.in/~mausam/courses/col772/autumn2021/A3/test.gold.txt [following]\n",
            "--2021-10-25 12:42:59--  https://www.cse.iitd.ac.in/~mausam/courses/col772/autumn2021/A3/test.gold.txt\n",
            "Connecting to www.cse.iitd.ac.in (www.cse.iitd.ac.in)|103.27.9.152|:443... connected.\n",
            "HTTP request sent, awaiting response... 200 OK\n",
            "Length: 1276 (1.2K) [text/plain]\n",
            "Saving to: ‘test.gold.txt’\n",
            "\n",
            "test.gold.txt       100%[===================>]   1.25K  --.-KB/s    in 0s      \n",
            "\n",
            "2021-10-25 12:42:59 (59.5 MB/s) - ‘test.gold.txt’ saved [1276/1276]\n",
            "\n",
            "Performance =  0.7586206896551724\n"
          ]
        }
      ]
    },
    {
      "cell_type": "code",
      "metadata": {
        "id": "tFiTYLA0Kmcz"
      },
      "source": [
        ""
      ],
      "execution_count": null,
      "outputs": []
    }
  ]
}